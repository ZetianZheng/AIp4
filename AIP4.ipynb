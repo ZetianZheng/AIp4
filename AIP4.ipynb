{
 "cells": [
  {
   "cell_type": "code",
   "execution_count": 3,
   "metadata": {},
   "outputs": [],
   "source": [
    "#viterbi algorithm customer journey"
   ]
  },
  {
   "cell_type": "code",
   "execution_count": 108,
   "metadata": {},
   "outputs": [
    {
     "name": "stdout",
     "output_type": "stream",
     "text": [
      "[['Pricing'], ['None'], ['Pricing'], ['Video', 'Pricing', 'Blog'], ['Video', 'Pricing'], ['Video'], ['Video', 'Blog'], ['Video', 'Pricing'], ['Blog'], ['None'], ['Testimonial']]\n"
     ]
    }
   ],
   "source": [
    "obs = []\n",
    "ob = [['PRICING'],\n",
    "       ['NONE'],\n",
    "       ['PRICING'],\n",
    "       ['VIDEO','PRICING','BLOG'],\n",
    "       ['VIDEO','PRICING'],\n",
    "       ['VIDEO'],\n",
    "       ['VIDEO','BLOG'],\n",
    "       ['VIDEO','PRICING'],\n",
    "       ['BLOG'],\n",
    "       ['NONE'],\n",
    "       ['TESTIMONIAL']]\n",
    "# initialize observation list\n",
    "for i in range(len(ob)):\n",
    "    obs.append([s.capitalize() for s in ob[i]])\n",
    "print(obs)"
   ]
  },
  {
   "cell_type": "code",
   "execution_count": 109,
   "metadata": {},
   "outputs": [],
   "source": [
    "states = ('Zero', 'Aware', 'Considering', 'Experiencing', 'Ready', 'Satisfied', 'Lost')\n",
    "actions = ('Demo', 'Video', 'Testimonial', 'Pricing', 'Blog', 'Payment', 'None')\n",
    "start_p = {'Zero' : 1, 'Aware' : 0, 'Considering' : 0, 'Experiencing' : 0, 'Ready' : 0, 'Satisfied' : 0, 'Lost' : 0}\n",
    "trans_p = {\n",
    "    'Zero' : {'Zero' : 0.6, 'Aware' : 0.4, 'Considering' : 0, 'Experiencing' : 0, 'Ready' : 0, 'Satisfied' : 0, 'Lost' : 0},\n",
    "    'Aware' : {'Zero' : 0, 'Aware' : 0.49, 'Considering' : 0.3, 'Experiencing' : 0, 'Ready' : 0.01, 'Satisfied' : 0, 'Lost' : 0.2},\n",
    "    'Considering' : {'Zero' : 0, 'Aware' : 0, 'Considering' : 0.48, 'Experiencing' : 0.2, 'Ready' : 0.02, 'Satisfied' : 0, 'Lost' : 0.3},\n",
    "    'Experiencing' : {'Zero' : 0, 'Aware' : 0, 'Considering' : 0, 'Experiencing' : 0.4, 'Ready' : 0.3, 'Satisfied' : 0, 'Lost' : 0.3},\n",
    "    'Ready' : {'Zero' : 0, 'Aware' : 0, 'Considering' : 0, 'Experiencing' : 0, 'Ready' : 0.8, 'Satisfied' : 0, 'Lost' : 0.2},\n",
    "    'Satisfied': {'Zero' : 0, 'Aware' : 0, 'Considering' : 0, 'Experiencing' : 0, 'Ready' : 0, 'Satisfied' : 1, 'Lost' : 0},\n",
    "    'Lost' : {'Zero' : 0, 'Aware' : 0, 'Considering' : 0, 'Experiencing' : 0, 'Ready' : 0, 'Satisfied' : 0, 'Lost' : 1}\n",
    "}\n",
    "emit_p = {\n",
    "    'Zero' : {'Demo' : 0.1, 'Video' : 0.01, 'Testimonial' : 0.05, 'Pricing' : 0.3, 'Blog' : 0.5, 'Payment' : 0.0},\n",
    "    'Aware' : {'Demo' : 0.1, 'Video' : 0.01, 'Testimonial' : 0.15, 'Pricing' : 0.3, 'Blog' : 0.4, 'Payment' : 0.0},\n",
    "    'Considering' : {'Demo' : 0.2, 'Video' : 0.3, 'Testimonial' : 0.05, 'Pricing' : 0.4, 'Blog' : 0.4, 'Payment' : 0.0},\n",
    "    'Experiencing' : {'Demo' : 0.4, 'Video' : 0.6, 'Testimonial' : 0.05, 'Pricing' : 0.3, 'Blog' : 0.4, 'Payment' : 0.0},\n",
    "    'Ready' :  {'Demo' : 0.05, 'Video' : 0.75, 'Testimonial' : 0.35, 'Pricing' : 0.2, 'Blog' : 0.4, 'Payment' : 0.0},\n",
    "    'Lost' :  {'Demo' : 0.01, 'Video' : 0.01, 'Testimonial' : 0.03, 'Pricing' : 0.05, 'Blog' : 0.2, 'Payment' : 0.0},\n",
    "    'Satisfied' : {'Demo' : 0.4, 'Video' : 0.4, 'Testimonial' : 0.01, 'Pricing' : 0.05, 'Blog' : 0.5, 'Payment' : 1.0},\n",
    "}"
   ]
  },
  {
   "cell_type": "code",
   "execution_count": 110,
   "metadata": {},
   "outputs": [
    {
     "name": "stdout",
     "output_type": "stream",
     "text": [
      "{'Zero': {'Demo': 0.1, 'Video': 0.01, 'Testimonial': 0.05, 'Pricing': 0.3, 'Blog': 0.5, 'Payment': 0.0, 'None': 0.29}, 'Aware': {'Demo': 0.1, 'Video': 0.01, 'Testimonial': 0.15, 'Pricing': 0.3, 'Blog': 0.4, 'Payment': 0.0, 'None': 0.32}, 'Considering': {'Demo': 0.2, 'Video': 0.3, 'Testimonial': 0.05, 'Pricing': 0.4, 'Blog': 0.4, 'Payment': 0.0, 'None': 0.19}, 'Experiencing': {'Demo': 0.4, 'Video': 0.6, 'Testimonial': 0.05, 'Pricing': 0.3, 'Blog': 0.4, 'Payment': 0.0, 'None': 0.1}, 'Ready': {'Demo': 0.05, 'Video': 0.75, 'Testimonial': 0.35, 'Pricing': 0.2, 'Blog': 0.4, 'Payment': 0.0, 'None': 0.08}, 'Lost': {'Demo': 0.01, 'Video': 0.01, 'Testimonial': 0.03, 'Pricing': 0.05, 'Blog': 0.2, 'Payment': 0.0, 'None': 0.72}, 'Satisfied': {'Demo': 0.4, 'Video': 0.4, 'Testimonial': 0.01, 'Pricing': 0.05, 'Blog': 0.5, 'Payment': 1.0, 'None': 0.0}}\n"
     ]
    }
   ],
   "source": [
    "# increase 'none' action in emission matrix\n",
    "for m in emit_p:\n",
    "    b = 1\n",
    "    for n in emit_p[m]:\n",
    "        x = 1 - emit_p[m][n]\n",
    "        b = round(x*b,2)\n",
    "    emit_p[m]['None'] = b\n",
    "print(emit_p)"
   ]
  },
  {
   "cell_type": "code",
   "execution_count": 111,
   "metadata": {},
   "outputs": [
    {
     "name": "stdout",
     "output_type": "stream",
     "text": [
      "[{'Zero': {'prob': 0.09014692499999999, 'prev': None}, 'Aware': {'prob': 0.0, 'prev': None}, 'Considering': {'prob': 0.0, 'prev': None}, 'Experiencing': {'prob': 0.0, 'prev': None}, 'Ready': {'prob': 0.0, 'prev': None}, 'Satisfied': {'prob': 0.0, 'prev': None}, 'Lost': {'prob': 0.0, 'prev': None}}]\n"
     ]
    }
   ],
   "source": [
    "# initialization\n",
    "V = [{}]\n",
    "for st in  states:\n",
    "    prob = 1\n",
    "    for obv in actions:\n",
    "        if obv in obs[0]:\n",
    "            prob =  prob * start_p[st] * emit_p[st][obv]\n",
    "        else:\n",
    "            prob = prob * start_p[st] * (1 - emit_p[st][obv])\n",
    "    V[0][st] = {'prob' : prob, 'prev': None}\n",
    "print(V)"
   ]
  },
  {
   "cell_type": "code",
   "execution_count": 112,
   "metadata": {},
   "outputs": [
    {
     "name": "stdout",
     "output_type": "stream",
     "text": [
      "[{'Zero': {'prob': 0.09014692499999999, 'prev': None}, 'Aware': {'prob': 0.0, 'prev': None}, 'Considering': {'prob': 0.0, 'prev': None}, 'Experiencing': {'prob': 0.0, 'prev': None}, 'Ready': {'prob': 0.0, 'prev': None}, 'Satisfied': {'prob': 0.0, 'prev': None}, 'Lost': {'prob': 0.0, 'prev': None}}, {'Zero': {'prob': 1.1635432309928013e-10, 'prev': 'Zero'}, 'Aware': {'prob': 8.06811829948698e-12, 'prev': 'Zero'}, 'Considering': {'prob': 0.0, 'prev': 'Zero'}, 'Experiencing': {'prob': 0.0, 'prev': 'Zero'}, 'Ready': {'prob': 0.0, 'prev': 'Zero'}, 'Satisfied': {'prob': 0.0, 'prev': 'Zero'}, 'Lost': {'prob': 0.0, 'prev': 'Zero'}}, {'Zero': {'prob': 7.285969309337807e-73, 'prev': 'Zero'}, 'Aware': {'prob': 4.3850611559610694e-74, 'prev': 'Zero'}, 'Considering': {'prob': 5.033411977168753e-83, 'prev': 'Aware'}, 'Experiencing': {'prob': 0.0, 'prev': 'Zero'}, 'Ready': {'prob': 3.7927292959818293e-94, 'prev': 'Aware'}, 'Satisfied': {'prob': 0.0, 'prev': 'Zero'}, 'Lost': {'prob': 3.033024497281304e-85, 'prev': 'Aware'}}, {'Zero': {'prob': 0.0, 'prev': 'Zero'}, 'Aware': {'prob': 0.0, 'prev': 'Zero'}, 'Considering': {'prob': 0.0, 'prev': 'Aware'}, 'Experiencing': {'prob': 0.0, 'prev': 'Considering'}, 'Ready': {'prob': 0.0, 'prev': 'Aware'}, 'Satisfied': {'prob': 0.0, 'prev': 'Zero'}, 'Lost': {'prob': 0.0, 'prev': 'Aware'}}, {'Zero': {'prob': 0.0, 'prev': 'Zero'}, 'Aware': {'prob': 0.0, 'prev': 'Zero'}, 'Considering': {'prob': 0.0, 'prev': 'Zero'}, 'Experiencing': {'prob': 0.0, 'prev': 'Zero'}, 'Ready': {'prob': 0.0, 'prev': 'Zero'}, 'Satisfied': {'prob': 0.0, 'prev': 'Zero'}, 'Lost': {'prob': 0.0, 'prev': 'Zero'}}, {'Zero': {'prob': 0.0, 'prev': 'Zero'}, 'Aware': {'prob': 0.0, 'prev': 'Zero'}, 'Considering': {'prob': 0.0, 'prev': 'Zero'}, 'Experiencing': {'prob': 0.0, 'prev': 'Zero'}, 'Ready': {'prob': 0.0, 'prev': 'Zero'}, 'Satisfied': {'prob': 0.0, 'prev': 'Zero'}, 'Lost': {'prob': 0.0, 'prev': 'Zero'}}, {'Zero': {'prob': 0.0, 'prev': 'Zero'}, 'Aware': {'prob': 0.0, 'prev': 'Zero'}, 'Considering': {'prob': 0.0, 'prev': 'Zero'}, 'Experiencing': {'prob': 0.0, 'prev': 'Zero'}, 'Ready': {'prob': 0.0, 'prev': 'Zero'}, 'Satisfied': {'prob': 0.0, 'prev': 'Zero'}, 'Lost': {'prob': 0.0, 'prev': 'Zero'}}, {'Zero': {'prob': 0.0, 'prev': 'Zero'}, 'Aware': {'prob': 0.0, 'prev': 'Zero'}, 'Considering': {'prob': 0.0, 'prev': 'Zero'}, 'Experiencing': {'prob': 0.0, 'prev': 'Zero'}, 'Ready': {'prob': 0.0, 'prev': 'Zero'}, 'Satisfied': {'prob': 0.0, 'prev': 'Zero'}, 'Lost': {'prob': 0.0, 'prev': 'Zero'}}, {'Zero': {'prob': 0.0, 'prev': 'Zero'}, 'Aware': {'prob': 0.0, 'prev': 'Zero'}, 'Considering': {'prob': 0.0, 'prev': 'Zero'}, 'Experiencing': {'prob': 0.0, 'prev': 'Zero'}, 'Ready': {'prob': 0.0, 'prev': 'Zero'}, 'Satisfied': {'prob': 0.0, 'prev': 'Zero'}, 'Lost': {'prob': 0.0, 'prev': 'Zero'}}, {'Zero': {'prob': 0.0, 'prev': 'Zero'}, 'Aware': {'prob': 0.0, 'prev': 'Zero'}, 'Considering': {'prob': 0.0, 'prev': 'Zero'}, 'Experiencing': {'prob': 0.0, 'prev': 'Zero'}, 'Ready': {'prob': 0.0, 'prev': 'Zero'}, 'Satisfied': {'prob': 0.0, 'prev': 'Zero'}, 'Lost': {'prob': 0.0, 'prev': 'Zero'}}, {'Zero': {'prob': 0.0, 'prev': 'Zero'}, 'Aware': {'prob': 0.0, 'prev': 'Zero'}, 'Considering': {'prob': 0.0, 'prev': 'Zero'}, 'Experiencing': {'prob': 0.0, 'prev': 'Zero'}, 'Ready': {'prob': 0.0, 'prev': 'Zero'}, 'Satisfied': {'prob': 0.0, 'prev': 'Zero'}, 'Lost': {'prob': 0.0, 'prev': 'Zero'}}]\n"
     ]
    }
   ],
   "source": [
    "for t in range(1, len(obs)):\n",
    "    V.append({})\n",
    "    for st in states:\n",
    "        max_tr_prob = V[t-1][states[0]][\"prob\"] * trans_p[states[0]][st]\n",
    "        prev_st_selected = states[0]\n",
    "        for prev_st in states[1:]:\n",
    "            tr_prob = V[t-1][prev_st][\"prob\"] * trans_p[prev_st][st]\n",
    "            if tr_prob > max_tr_prob:\n",
    "                max_tr_prob = tr_prob\n",
    "                prev_st_selected = prev_st\n",
    "        # calculate max probability\n",
    "        max_prob = 1 \n",
    "        for obv in actions:\n",
    "            if obv in obs[t]:\n",
    "                max_prob = max_prob * max_tr_prob * emit_p[st][obv]\n",
    "            else:\n",
    "                max_prob = max_prob * max_tr_prob * (1 - emit_p[st][obv])\n",
    "        \n",
    "#         max_prob = max_tr_prob * emit_p[st][obv]\n",
    "        V[t][st] = {\"prob\": max_prob, \"prev\": prev_st_selected}\n",
    "print(V)"
   ]
  },
  {
   "cell_type": "code",
   "execution_count": 113,
   "metadata": {},
   "outputs": [],
   "source": [
    "# def dptable(V):\n",
    "#     # Print a table of steps from dictionary\n",
    "#     yield \" \".join((\"%12d\" % i) for i in range(len(V)))\n",
    "#     for state in V[0]:\n",
    "#         yield \"%.7s: \" % state + \" \".join(\"%.7s\" % (\"%f\" % v[state][\"prob\"]) for v in V)"
   ]
  },
  {
   "cell_type": "code",
   "execution_count": 114,
   "metadata": {},
   "outputs": [],
   "source": [
    "# for line in dptable(V):\n",
    "#     print (line) "
   ]
  },
  {
   "cell_type": "code",
   "execution_count": 115,
   "metadata": {},
   "outputs": [
    {
     "name": "stdout",
     "output_type": "stream",
     "text": [
      "The steps of states are Zero Zero Zero Zero Zero Zero Zero Zero Zero Zero Zero with highest probability of 0.0\n"
     ]
    }
   ],
   "source": [
    "opt_path = []\n",
    "max_prob = float(\"-inf\")\n",
    "previous = None\n",
    "for st, data in V[-1].items():\n",
    "    if data['prob'] > max_prob:\n",
    "        max_prob = data['prob']\n",
    "        best_st = st\n",
    "opt_path.append(best_st)\n",
    "previous = best_st\n",
    "\n",
    "# follow the back track\n",
    "for t in range(len(V) - 2, -1, -1):\n",
    "    opt_path.insert(0, V[t + 1][previous][\"prev\"])\n",
    "    previous = V[t + 1][previous][\"prev\"]\n",
    "print ('The steps of states are ' + ' '.join(opt_path) + ' with highest probability of %s' % max_prob)"
   ]
  },
  {
   "cell_type": "code",
   "execution_count": null,
   "metadata": {},
   "outputs": [],
   "source": []
  }
 ],
 "metadata": {
  "kernelspec": {
   "display_name": "Python 3",
   "language": "python",
   "name": "python3"
  },
  "language_info": {
   "codemirror_mode": {
    "name": "ipython",
    "version": 3
   },
   "file_extension": ".py",
   "mimetype": "text/x-python",
   "name": "python",
   "nbconvert_exporter": "python",
   "pygments_lexer": "ipython3",
   "version": "3.7.4"
  }
 },
 "nbformat": 4,
 "nbformat_minor": 2
}

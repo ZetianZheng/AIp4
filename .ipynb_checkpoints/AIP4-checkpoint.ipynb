{
 "cells": [
  {
   "cell_type": "code",
   "execution_count": 3,
   "metadata": {},
   "outputs": [],
   "source": [
    "#viterbi algorithm customer journey"
   ]
  },
  {
   "cell_type": "code",
   "execution_count": null,
   "metadata": {
    "collapsed": true
   },
   "outputs": [],
   "source": [
    "obs"
   ]
  },
  {
   "cell_type": "code",
   "execution_count": 2,
   "metadata": {},
   "outputs": [],
   "source": [
    "states = ('Zero', 'Aware', 'Considering', 'Experiencing', 'Ready', 'Satisfied', 'Lost')\n",
    "start_p = {'Zero':1}\n",
    "trans_p = {\n",
    "    'Zero' : {'Zero' : 0.6, 'Aware' : 0.4},\n",
    "    'Aware' : {'Aware' : 0.49, 'Considering' : 0.3, 'Ready' : 0.01, 'Lost' : 0.2},\n",
    "    'Considering' : {'Considering' : 0.48, 'Experiencing' : 0.2, 'Ready' : 0.02, 'Lost' : 0.3},\n",
    "    'Experiencing' : {'Experiencing' : 0.4, 'Ready' : 0.3,' Lost' : 0.3},\n",
    "    'Ready' : {'Ready' : 0.8, 'Lost' : 0.2}\n",
    "}\n",
    "emit_p = {\n",
    "    'Zero' : {'Demo' : 0.1, 'Video' : 0.01, 'Testimonial' : 0.05, 'Pricing' : 0.3, 'Blog' : 0.5, 'Payment' : 0.0},\n",
    "    'Aware' : {'Demo' : 0.1, 'Video' : 0.01, 'Testimonial' : 0.15, 'Pricing' : 0.3, 'Blog' : 0.4, 'Payment' : 0.0},\n",
    "    'Considering' : {'Demo' : 0.2, 'Video' : 0.3, 'Testimonial' : 0.05, 'Pricing' : 0.4, 'Blog' : 0.4, 'Payment' : 0.0},\n",
    "    'Experiencing' : {'Demo' : 0.4, 'Video' : 0.6, 'Testimonial' : 0.05, 'Pricing' : 0.3, 'Blog' : 0.4, 'Payment' : 0.0},\n",
    "    'Ready' :  {'Demo' : 0.05, 'Video' : 0.75, 'Testimonial' : 0.35, 'Pricing' : 0.2, 'Blog' : 0.4, 'Payment' : 0.0},\n",
    "    'Lost' :  {'Demo' : 0.01, 'Video' : 0.01, 'Testimonial' : 0.03, 'Pricing' : 0.05, 'Blog' : 0.2, 'Payment' : 0.0},\n",
    "    'Satisfied' : {'Demo' : 0.4, 'Video' : 0.4, 'Testimonial' : 0.01, 'Pricing' : 0.05, 'Blog' : 0.5, 'Payment' : 1.0},\n",
    "}"
   ]
  },
  {
   "cell_type": "code",
   "execution_count": null,
   "metadata": {},
   "outputs": [],
   "source": []
  }
 ],
 "metadata": {
  "kernelspec": {
   "display_name": "Python 3",
   "language": "python",
   "name": "python3"
  },
  "language_info": {
   "codemirror_mode": {
    "name": "ipython",
    "version": 3
   },
   "file_extension": ".py",
   "mimetype": "text/x-python",
   "name": "python",
   "nbconvert_exporter": "python",
   "pygments_lexer": "ipython3",
   "version": "3.7.4"
  }
 },
 "nbformat": 4,
 "nbformat_minor": 2
}
